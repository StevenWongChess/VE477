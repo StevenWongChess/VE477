{
 "cells": [
  {
   "cell_type": "code",
   "execution_count": 12,
   "metadata": {},
   "outputs": [],
   "source": [
    "import numpy as np\n",
    "from gurobipy import *"
   ]
  },
  {
   "cell_type": "code",
   "execution_count": 13,
   "metadata": {},
   "outputs": [],
   "source": [
    "m = Model()\n",
    "T = 5\n",
    "x = m.addVars(T, vtype=GRB.BINARY, name=\"if_chosen\")\n",
    "m.setObjective(quicksum(x[t] for t in range(T)), GRB.MINIMIZE)\n",
    "               \n",
    "c1 = m.addConstr(x[0] + x[1] >= 1)  \n",
    "c2 = m.addConstr(x[0] + x[3] >= 1)  \n",
    "c3 = m.addConstr(x[2] >= 1)  \n",
    "c4 = m.addConstr(x[4] >= 1)  \n",
    "c5 = m.addConstr(x[1] + x[4] >= 1)  \n",
    "c6 = m.addConstr(x[1] + x[2] >= 1)  \n",
    "c7 = m.addConstr(x[3] >= 1)                 \n",
    "c8 = m.addConstr(x[0] + x[3] >= 1)               "
   ]
  },
  {
   "cell_type": "code",
   "execution_count": 14,
   "metadata": {},
   "outputs": [
    {
     "name": "stdout",
     "output_type": "stream",
     "text": [
      "Gurobi Optimizer version 9.0.2 build v9.0.2rc0 (mac64)\n",
      "Optimize a model with 8 rows, 5 columns and 13 nonzeros\n",
      "Model fingerprint: 0x74c2bfc5\n",
      "Variable types: 0 continuous, 5 integer (5 binary)\n",
      "Coefficient statistics:\n",
      "  Matrix range     [1e+00, 1e+00]\n",
      "  Objective range  [1e+00, 1e+00]\n",
      "  Bounds range     [1e+00, 1e+00]\n",
      "  RHS range        [1e+00, 1e+00]\n",
      "Found heuristic solution: objective 4.0000000\n",
      "Presolve removed 8 rows and 5 columns\n",
      "Presolve time: 0.00s\n",
      "Presolve: All rows and columns removed\n",
      "\n",
      "Explored 0 nodes (0 simplex iterations) in 0.04 seconds\n",
      "Thread count was 1 (of 4 available processors)\n",
      "\n",
      "Solution count 1: 4 \n",
      "\n",
      "Optimal solution found (tolerance 1.00e-04)\n",
      "Best objective 4.000000000000e+00, best bound 4.000000000000e+00, gap 0.0000%\n",
      "The optimal solution is\n",
      "\n",
      "    Variable            X \n",
      "-------------------------\n",
      "if_chosen[1]            1 \n",
      "if_chosen[2]            1 \n",
      "if_chosen[3]            1 \n",
      "if_chosen[4]            1 \n"
     ]
    }
   ],
   "source": [
    "m.optimize()\n",
    "print(\"The optimal solution is\")\n",
    "m.printAttr('X')"
   ]
  },
  {
   "cell_type": "code",
   "execution_count": null,
   "metadata": {},
   "outputs": [],
   "source": []
  }
 ],
 "metadata": {
  "kernelspec": {
   "display_name": "Python 3",
   "language": "python",
   "name": "python3"
  },
  "language_info": {
   "codemirror_mode": {
    "name": "ipython",
    "version": 3
   },
   "file_extension": ".py",
   "mimetype": "text/x-python",
   "name": "python",
   "nbconvert_exporter": "python",
   "pygments_lexer": "ipython3",
   "version": "3.7.6"
  }
 },
 "nbformat": 4,
 "nbformat_minor": 4
}
