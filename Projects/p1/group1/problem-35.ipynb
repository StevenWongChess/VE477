{
 "cells": [
  {
   "cell_type": "code",
   "execution_count": null,
   "metadata": {},
   "outputs": [],
   "source": [
    "from Christofides import christofides\n",
    "dist_matrx = [[0,10,100,50,33,66],[0,0,22,86,952,3],[0,0,0,6,86,2],[0,0,0,0,5,4],[0,0,0,0,0,9],[0,0,0,0,0,0]]\n",
    "TSP = christofides.compute(dist_matrx)"
   ]
  }
 ],
 "metadata": {
  "kernelspec": {
   "display_name": "Python 3",
   "language": "python",
   "name": "python3"
  },
  "language_info": {
   "codemirror_mode": {
    "name": "ipython",
    "version": 3
   },
   "file_extension": ".py",
   "mimetype": "text/x-python",
   "name": "python",
   "nbconvert_exporter": "python",
   "pygments_lexer": "ipython3",
   "version": "3.8.5"
  }
 },
 "nbformat": 4,
 "nbformat_minor": 4
}
